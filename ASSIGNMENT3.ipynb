{
 "cells": [
  {
   "cell_type": "raw",
   "id": "913ef0af-6fea-4de1-acaa-90c30f57b286",
   "metadata": {},
   "source": [
    "1. Why are functions advantageous to have in your programs?\n",
    "\n",
    "          Functions reduce the need for duplicate code. This makes programs shorter, easier to read, and easier to update."
   ]
  },
  {
   "cell_type": "raw",
   "id": "97611e64-4572-4f2d-85f4-fd6d566424f9",
   "metadata": {},
   "source": [
    "2. When does the code in a function run: when it's specified or when it's called?\n",
    "\n",
    "          The code in a function executes when the function is called, not when the function is defined."
   ]
  },
  {
   "cell_type": "raw",
   "id": "612ce1c9-e53a-4601-be36-63a4074e4db7",
   "metadata": {},
   "source": [
    "3. What statement creates a function?\n",
    "\n",
    "          The def statement defines, i.e. creates a function."
   ]
  },
  {
   "cell_type": "raw",
   "id": "bc11aa4e-e910-4c3b-af75-92b677d11306",
   "metadata": {},
   "source": [
    "4. What is the difference between a function and a function call?\n",
    "\n",
    "          A function consists of the def statement and the code in its def clause.\n",
    "\n",
    "A function call is what moves the program execution into the function, and the function call evaluates to the function's return value."
   ]
  },
  {
   "cell_type": "raw",
   "id": "200e145b-72ee-4a26-a612-f25a852bd2da",
   "metadata": {},
   "source": [
    "5. How many global scopes are there in a Python program? How many local scopes?\n",
    "\n",
    "          There is one global scope, and a local scope is created whenever a function is called."
   ]
  },
  {
   "cell_type": "raw",
   "id": "4a9b20d5-b8ec-487e-89a2-f9cedf1c777e",
   "metadata": {},
   "source": [
    "6. What happens to variables in a local scope when the function call returns?\n",
    "\n",
    "          When a function returns, the local scope is destroyed, and all the variables in it are forgotten."
   ]
  },
  {
   "cell_type": "raw",
   "id": "5ec90bae-b9b9-4103-baa4-ec217a4aa0f6",
   "metadata": {},
   "source": [
    "7. What is the concept of a return value? Is it possible to have a return value in an expression?\n",
    "\n",
    "          A return value is the value that a function call evaluates to. Like any value, a return value can be used as part of an expression."
   ]
  },
  {
   "cell_type": "code",
   "execution_count": 33,
   "id": "0c10cda0-04f9-467b-8709-9f44c25f7957",
   "metadata": {},
   "outputs": [
    {
     "data": {
      "text/plain": [
       "27"
      ]
     },
     "execution_count": 33,
     "metadata": {},
     "output_type": "execute_result"
    }
   ],
   "source": [
    "def cube(x):\n",
    "   r=x**3\n",
    "   return r\n",
    "\n",
    "cube(3)"
   ]
  },
  {
   "cell_type": "raw",
   "id": "97f96260-3434-40c2-af8d-dbf80dc29273",
   "metadata": {},
   "source": [
    "8. If a function does not have a return statement, what is the return value of a call to that function?\n",
    "\n",
    "          If there is no return statement for a function, its return value is None."
   ]
  },
  {
   "cell_type": "code",
   "execution_count": 21,
   "id": "22962da7-1ae0-4c49-be40-91239ea1ff82",
   "metadata": {},
   "outputs": [
    {
     "name": "stdout",
     "output_type": "stream",
     "text": [
      "None\n"
     ]
    }
   ],
   "source": [
    "def test():\n",
    "  b = test()\n",
    "print(b)"
   ]
  },
  {
   "cell_type": "raw",
   "id": "f7e3c9b4-c2a2-41e4-a4ce-76f36cf4ac26",
   "metadata": {},
   "source": [
    "9. How do you make a function variable refer to the global variable?\n",
    "\n",
    "          A global statement will force a variable in a function to refer to the global variable."
   ]
  },
  {
   "cell_type": "raw",
   "id": "799a6223-d795-4928-8c2d-1dedba115fd6",
   "metadata": {},
   "source": [
    "10. What is the data type of None?\n",
    "\n",
    "          The data type of None is NoneType."
   ]
  },
  {
   "cell_type": "code",
   "execution_count": 19,
   "id": "7e6b96ff-d20b-47f9-9962-f6e0b9cf5177",
   "metadata": {},
   "outputs": [
    {
     "name": "stdout",
     "output_type": "stream",
     "text": [
      "None\n"
     ]
    },
    {
     "data": {
      "text/plain": [
       "NoneType"
      ]
     },
     "execution_count": 19,
     "metadata": {},
     "output_type": "execute_result"
    }
   ],
   "source": [
    "def test():\n",
    "  b = test()\n",
    "print(b)\n",
    "type(b)"
   ]
  },
  {
   "cell_type": "raw",
   "id": "801c4397-8238-40c4-b0fe-d46a1a73c54a",
   "metadata": {},
   "source": [
    "11. What does the sentence import areallyourpetsnamederic do?\n",
    "\n",
    "          That import statement imports a module named areallyourpetsnamederic."
   ]
  },
  {
   "cell_type": "raw",
   "id": "f929ca7e-f949-4c66-a586-5470083c9614",
   "metadata": {},
   "source": [
    "12. If you had a bacon() feature in a spam module, what would you call it after importing spam?\n",
    "\n",
    "        This function can be called with spam.bacon()."
   ]
  },
  {
   "cell_type": "raw",
   "id": "ca2c6d82-32c1-4769-8b82-002280df1ca8",
   "metadata": {},
   "source": [
    "13. What can you do to save a programme from crashing if it encounters an error?\n",
    "\n",
    "        Place the line of code that might cause an error in a try clause.\n",
    "        \n",
    "        Error handling can be used to notify the user of why the error occurred and gracefully exit the process that caused the error.\n",
    "        "
   ]
  },
  {
   "cell_type": "raw",
   "id": "b81b6452-915a-4bab-bb55-b63efe1e6f60",
   "metadata": {},
   "source": [
    "14. What is the purpose of the try clause? What is the purpose of the except clause?\n",
    "\n",
    "        The try block is used to check some code for errors i.e the code inside the try block will execute when there is no error in the program. Whereas the code inside the except block will execute whenever the program encounters some error in the preceding try block.\n",
    "        "
   ]
  },
  {
   "cell_type": "code",
   "execution_count": 20,
   "id": "82afee6f-8036-47a9-be4a-20924e616ff0",
   "metadata": {},
   "outputs": [
    {
     "name": "stdout",
     "output_type": "stream",
     "text": [
      "Error occurred : can only concatenate str (not \"int\") to str\n"
     ]
    }
   ],
   "source": [
    "def addNumbers(a, b):\n",
    "    try:\n",
    "        return a + b\n",
    "    except Exception as e:\n",
    "        return 'Error occurred : ' + str(e)\n",
    "  \n",
    "print(addNumbers('', 10))"
   ]
  }
 ],
 "metadata": {
  "kernelspec": {
   "display_name": "Python 3 (ipykernel)",
   "language": "python",
   "name": "python3"
  },
  "language_info": {
   "codemirror_mode": {
    "name": "ipython",
    "version": 3
   },
   "file_extension": ".py",
   "mimetype": "text/x-python",
   "name": "python",
   "nbconvert_exporter": "python",
   "pygments_lexer": "ipython3",
   "version": "3.10.6"
  }
 },
 "nbformat": 4,
 "nbformat_minor": 5
}
